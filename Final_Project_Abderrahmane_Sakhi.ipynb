{
 "cells": [
  {
   "cell_type": "markdown",
   "id": "f6f1ad03",
   "metadata": {},
   "source": [
    "# Data Science Tools and Practices Overview"
   ]
  },
  {
   "cell_type": "markdown",
   "id": "1178a370",
   "metadata": {},
   "source": [
    "Welcome! This notebook introduces key data science concepts and tools."
   ]
  },
  {
   "cell_type": "markdown",
   "id": "0fa8227d",
   "metadata": {},
   "source": [
    "### Data Science Languages\n",
    "1. Python\n",
    "2. R\n",
    "3. SQL"
   ]
  },
  {
   "cell_type": "markdown",
   "id": "605f4917",
   "metadata": {},
   "source": [
    "### Data Science Libraries\n",
    "1. Pandas\n",
    "2. NumPy\n",
    "3. Scikit-learn"
   ]
  },
  {
   "cell_type": "markdown",
   "id": "4a7426a1",
   "metadata": {},
   "source": [
    "### Data Science Tools\n",
    "| Tool | Description |\n",
    "|------|-------------|\n",
    "| Jupyter Notebook | Interactive coding and documentation |\n",
    "| RStudio | IDE for R programming |\n",
    "| Apache Spark | Big data processing framework |"
   ]
  },
  {
   "cell_type": "markdown",
   "id": "a952b377",
   "metadata": {},
   "source": [
    "We can use code cells to perform basic arithmetic operations."
   ]
  },
  {
   "cell_type": "code",
   "execution_count": null,
   "id": "5dc23200",
   "metadata": {},
   "outputs": [],
   "source": [
    "3 * 4 + 5"
   ]
  },
  {
   "cell_type": "code",
   "execution_count": null,
   "id": "f66cb54d",
   "metadata": {},
   "outputs": [],
   "source": [
    "200 / 60"
   ]
  },
  {
   "cell_type": "markdown",
   "id": "28454e23",
   "metadata": {},
   "source": [
    "### Objectives\n",
    "- Understand data science languages\n",
    "- Learn key libraries\n",
    "- Practice with arithmetic in code cells\n",
    "- Use markdown for documentation"
   ]
  },
  {
   "cell_type": "markdown",
   "id": "c9f54f8f",
   "metadata": {},
   "source": [
    "**Author:** Abderrahmane Sakhi"
   ]
  }
 ],
 "metadata": {},
 "nbformat": 4,
 "nbformat_minor": 5
}
